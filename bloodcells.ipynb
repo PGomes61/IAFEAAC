{
  "cells": [
    {
      "cell_type": "code",
      "execution_count": null,
      "id": "60269ce0",
      "metadata": {
        "colab": {
          "base_uri": "https://localhost:8080/"
        },
        "id": "60269ce0",
        "outputId": "d74a9f8e-11d7-4cb0-f000-2d714c1ca286"
      },
      "outputs": [],
      "source": [
        "#!pip install tensorflow keras split-folders opencv-python\n",
        "#!pip install split-folders"
      ]
    },
    {
      "cell_type": "code",
      "execution_count": 1,
      "id": "378b019f",
      "metadata": {
        "id": "378b019f"
      },
      "outputs": [
        {
          "name": "stderr",
          "output_type": "stream",
          "text": [
            "2025-06-01 20:09:40.622265: I external/local_xla/xla/tsl/cuda/cudart_stub.cc:32] Could not find cuda drivers on your machine, GPU will not be used.\n",
            "2025-06-01 20:09:40.625286: I external/local_xla/xla/tsl/cuda/cudart_stub.cc:32] Could not find cuda drivers on your machine, GPU will not be used.\n",
            "2025-06-01 20:09:40.633009: E external/local_xla/xla/stream_executor/cuda/cuda_fft.cc:467] Unable to register cuFFT factory: Attempting to register factory for plugin cuFFT when one has already been registered\n",
            "WARNING: All log messages before absl::InitializeLog() is called are written to STDERR\n",
            "E0000 00:00:1748819380.645321   34118 cuda_dnn.cc:8579] Unable to register cuDNN factory: Attempting to register factory for plugin cuDNN when one has already been registered\n",
            "E0000 00:00:1748819380.649187   34118 cuda_blas.cc:1407] Unable to register cuBLAS factory: Attempting to register factory for plugin cuBLAS when one has already been registered\n",
            "W0000 00:00:1748819380.660004   34118 computation_placer.cc:177] computation placer already registered. Please check linkage and avoid linking the same target more than once.\n",
            "W0000 00:00:1748819380.660026   34118 computation_placer.cc:177] computation placer already registered. Please check linkage and avoid linking the same target more than once.\n",
            "W0000 00:00:1748819380.660029   34118 computation_placer.cc:177] computation placer already registered. Please check linkage and avoid linking the same target more than once.\n",
            "W0000 00:00:1748819380.660031   34118 computation_placer.cc:177] computation placer already registered. Please check linkage and avoid linking the same target more than once.\n",
            "2025-06-01 20:09:40.663669: I tensorflow/core/platform/cpu_feature_guard.cc:210] This TensorFlow binary is optimized to use available CPU instructions in performance-critical operations.\n",
            "To enable the following instructions: AVX2 FMA, in other operations, rebuild TensorFlow with the appropriate compiler flags.\n"
          ]
        }
      ],
      "source": [
        "import numpy as np\n",
        "import tensorflow as tf\n",
        "from tensorflow.keras.models import Sequential\n",
        "from tensorflow.keras.layers import Conv2D, MaxPooling2D, Flatten, Dense, Dropout, Input\n",
        "from tensorflow.keras.preprocessing.image import ImageDataGenerator\n",
        "import matplotlib.pyplot as plt\n",
        "import splitfolders\n",
        "import cv2\n",
        "from tensorflow.keras.applications.resnet50 import preprocess_input\n",
        "from tensorflow.keras import layers, models\n",
        "import os\n",
        "import random\n",
        "import seaborn as sns\n",
        "from sklearn.metrics import confusion_matrix, classification_report"
      ]
    },
    {
      "cell_type": "code",
      "execution_count": 2,
      "id": "xV0oVx5EO7P-",
      "metadata": {
        "colab": {
          "base_uri": "https://localhost:8080/"
        },
        "id": "xV0oVx5EO7P-",
        "outputId": "23cf7959-3a53-4055-8fe0-0f59c51f0bfd"
      },
      "outputs": [],
      "source": [
        "# Executar essa cédula pra conectar o Colab ao Drive\n",
        "# from google.colab import drive\n",
        "# drive.mount('/content/drive')"
      ]
    },
    {
      "cell_type": "code",
      "execution_count": 3,
      "id": "ca34ca8b",
      "metadata": {
        "id": "ca34ca8b"
      },
      "outputs": [],
      "source": [
        "input_folder = \"bloodcells_dataset_reduced\"\n",
        "output_folder = \"image_recognition\""
      ]
    },
    {
      "cell_type": "code",
      "execution_count": 4,
      "id": "eb5d192c",
      "metadata": {
        "colab": {
          "base_uri": "https://localhost:8080/"
        },
        "id": "eb5d192c",
        "outputId": "c3dc73f3-e073-4111-8587-bdd5365a533c"
      },
      "outputs": [
        {
          "name": "stderr",
          "output_type": "stream",
          "text": [
            "Copying files: 4000 files [00:00, 10419.46 files/s]\n"
          ]
        }
      ],
      "source": [
        "split_ratio = (0.8, 0.1, 0.1)\n",
        "splitfolders.ratio(\n",
        "    input_folder,\n",
        "    output=output_folder,\n",
        "    seed=42,\n",
        "    ratio=split_ratio,\n",
        "    group_prefix=None\n",
        ")   # Cria as pastas test, train e val no image_recognition\n"
      ]
    },
    {
      "cell_type": "code",
      "execution_count": 5,
      "id": "526bf788",
      "metadata": {
        "id": "526bf788"
      },
      "outputs": [],
      "source": [
        "# Define the parameters\n",
        "img_size = (360, 360)\n",
        "batch_size = 32\n",
        "\n",
        "train_datagen = ImageDataGenerator(\n",
        "    preprocessing_function=preprocess_input,    # resnet50\n",
        "    rotation_range=20,\n",
        "    width_shift_range=0.2,\n",
        "    height_shift_range=0.2,\n",
        "    shear_range=0.2,\n",
        "    zoom_range=0.2,\n",
        "    horizontal_flip=True,\n",
        "    fill_mode='nearest'\n",
        ")"
      ]
    },
    {
      "cell_type": "code",
      "execution_count": 6,
      "id": "0088abbf",
      "metadata": {
        "id": "0088abbf"
      },
      "outputs": [],
      "source": [
        "# Data augmentation for test data (only rescaling)\n",
        "test_datagen = ImageDataGenerator(preprocessing_function=preprocess_input)\n",
        "# Data augmentation for validation data (only rescaling)\n",
        "valid_datagen = ImageDataGenerator(preprocessing_function=preprocess_input)"
      ]
    },
    {
      "cell_type": "code",
      "execution_count": 7,
      "id": "8a4acac7",
      "metadata": {
        "id": "8a4acac7"
      },
      "outputs": [],
      "source": [
        "train_dir = os.path.join(output_folder, 'train')\n",
        "test_dir = os.path.join(output_folder, 'test')\n",
        "valid_dir = os.path.join(output_folder, 'val')"
      ]
    },
    {
      "cell_type": "code",
      "execution_count": 8,
      "id": "1f20c8ee",
      "metadata": {
        "colab": {
          "base_uri": "https://localhost:8080/"
        },
        "id": "1f20c8ee",
        "outputId": "0c4bbc17-092b-4882-d7fc-1bdb3fde8c71"
      },
      "outputs": [
        {
          "name": "stdout",
          "output_type": "stream",
          "text": [
            "Found 3200 images belonging to 8 classes.\n",
            "Found 400 images belonging to 8 classes.\n",
            "Found 400 images belonging to 8 classes.\n"
          ]
        }
      ],
      "source": [
        "train_data = train_datagen.flow_from_directory(\n",
        "    train_dir,\n",
        "    target_size=img_size,\n",
        "    batch_size=batch_size,\n",
        "    class_mode='categorical'\n",
        ")\n",
        "\n",
        "test_data = test_datagen.flow_from_directory(\n",
        "    test_dir,\n",
        "    target_size=img_size,\n",
        "    batch_size=batch_size,\n",
        "    class_mode='categorical',\n",
        "    shuffle=False # Evita inconsistência na predição\n",
        ")\n",
        "\n",
        "valid_data = valid_datagen.flow_from_directory(\n",
        "    valid_dir,\n",
        "    target_size=img_size,\n",
        "    batch_size=batch_size,\n",
        "    class_mode='categorical'\n",
        ")"
      ]
    },
    {
      "cell_type": "code",
      "execution_count": 9,
      "id": "805acfdc",
      "metadata": {
        "id": "805acfdc"
      },
      "outputs": [],
      "source": [
        "# Get a batch of images and labels\n",
        "images, labels = next(valid_data)"
      ]
    },
    {
      "cell_type": "code",
      "execution_count": 13,
      "id": "263a3b22",
      "metadata": {
        "colab": {
          "base_uri": "https://localhost:8080/",
          "height": 489
        },
        "id": "263a3b22",
        "outputId": "971c8121-9e50-444c-acde-6b051d291df2"
      },
      "outputs": [
        {
          "name": "stderr",
          "output_type": "stream",
          "text": [
            "Clipping input data to the valid range for imshow with RGB data ([0..1] for floats or [0..255] for integers). Got range [-113.779..131.32].\n"
          ]
        },
        {
          "data": {
            "image/png": "[encoded data removed]",
            "text/plain": [
              "<Figure size 640x480 with 1 Axes>"
            ]
          },
          "metadata": {},
          "output_type": "display_data"
        }
      ],
      "source": [
        "# Select a random image from the batch\n",
        "idx =  random.randint(0, images.shape[0] - 1)\n",
        "\n",
        "# Display the image\n",
        "plt.imshow(images[idx])\n",
        "plt.title(labels[idx])\n",
        "plt.show()"
      ]
    },
    {
      "cell_type": "code",
      "execution_count": 14,
      "id": "80df84de",
      "metadata": {
        "id": "80df84de"
      },
      "outputs": [
        {
          "name": "stderr",
          "output_type": "stream",
          "text": [
            "2025-06-01 20:10:41.155540: E external/local_xla/xla/stream_executor/cuda/cuda_platform.cc:51] failed call to cuInit: INTERNAL: CUDA error: Failed call to cuInit: UNKNOWN ERROR (303)\n"
          ]
        }
      ],
      "source": [
        "from keras.applications.resnet50 import ResNet50\n",
        "base_model = ResNet50(weights='imagenet', include_top=False, input_shape=(img_size[0], img_size[1], 3))\n",
        "\n",
        "# Freeze the convolutional base\n",
        "base_model.trainable = False"
      ]
    },
    {
      "cell_type": "code",
      "execution_count": 15,
      "id": "43ce4ff8",
      "metadata": {
        "id": "43ce4ff8"
      },
      "outputs": [],
      "source": [
        "model = models.Sequential([\n",
        "    base_model,\n",
        "    layers.GlobalAveragePooling2D(),\n",
        "    layers.Dense(128, activation='relu'),\n",
        "    layers.Dropout(0.5),\n",
        "    layers.Dense(8, activation='softmax')\n",
        "])"
      ]
    },
    {
      "cell_type": "code",
      "execution_count": null,
      "id": "0mTDiNZzcfJZ",
      "metadata": {
        "id": "0mTDiNZzcfJZ"
      },
      "outputs": [],
      "source": [
        "# Rodar apenas se tiver o treinamento já carregado\n",
        "# model.load_weights('/content/drive/MyDrive/IA/bloodcells_image_recognition/CropModel.keras')"
      ]
    },
    {
      "cell_type": "code",
      "execution_count": 16,
      "id": "d5c876fe",
      "metadata": {
        "id": "d5c876fe"
      },
      "outputs": [],
      "source": [
        "model.compile(optimizer='adam',\n",
        "              loss='categorical_crossentropy',\n",
        "              metrics=['accuracy'])"
      ]
    },
    {
      "cell_type": "code",
      "execution_count": 17,
      "id": "RRaR73YxXYf8",
      "metadata": {
        "id": "RRaR73YxXYf8"
      },
      "outputs": [
        {
          "name": "stderr",
          "output_type": "stream",
          "text": [
            "/home/paulo/Programas/anaconda3/lib/python3.12/site-packages/keras/src/trainers/data_adapters/py_dataset_adapter.py:121: UserWarning: Your `PyDataset` class should call `super().__init__(**kwargs)` in its constructor. `**kwargs` can include `workers`, `use_multiprocessing`, `max_queue_size`. Do not pass these arguments to `fit()`, as they will be ignored.\n",
            "  self._warn_if_super_not_called()\n"
          ]
        },
        {
          "name": "stdout",
          "output_type": "stream",
          "text": [
            "Epoch 1/10\n",
            "\u001b[1m100/100\u001b[0m \u001b[32m━━━━━━━━━━━━━━━━━━━━\u001b[0m\u001b[37m\u001b[0m \u001b[1m303s\u001b[0m 3s/step - accuracy: 0.3014 - loss: 1.8661 - val_accuracy: 0.6175 - val_loss: 1.0851\n",
            "Epoch 2/10\n",
            "\u001b[1m100/100\u001b[0m \u001b[32m━━━━━━━━━━━━━━━━━━━━\u001b[0m\u001b[37m\u001b[0m \u001b[1m299s\u001b[0m 3s/step - accuracy: 0.5908 - loss: 1.1277 - val_accuracy: 0.7500 - val_loss: 0.7775\n",
            "Epoch 3/10\n",
            "\u001b[1m100/100\u001b[0m \u001b[32m━━━━━━━━━━━━━━━━━━━━\u001b[0m\u001b[37m\u001b[0m \u001b[1m307s\u001b[0m 3s/step - accuracy: 0.6795 - loss: 0.9078 - val_accuracy: 0.7775 - val_loss: 0.6081\n",
            "Epoch 4/10\n",
            "\u001b[1m100/100\u001b[0m \u001b[32m━━━━━━━━━━━━━━━━━━━━\u001b[0m\u001b[37m\u001b[0m \u001b[1m311s\u001b[0m 3s/step - accuracy: 0.7255 - loss: 0.7931 - val_accuracy: 0.7825 - val_loss: 0.5757\n",
            "Epoch 5/10\n",
            "\u001b[1m100/100\u001b[0m \u001b[32m━━━━━━━━━━━━━━━━━━━━\u001b[0m\u001b[37m\u001b[0m \u001b[1m311s\u001b[0m 3s/step - accuracy: 0.7643 - loss: 0.6963 - val_accuracy: 0.7925 - val_loss: 0.5379\n",
            "Epoch 6/10\n",
            "\u001b[1m100/100\u001b[0m \u001b[32m━━━━━━━━━━━━━━━━━━━━\u001b[0m\u001b[37m\u001b[0m \u001b[1m313s\u001b[0m 3s/step - accuracy: 0.7821 - loss: 0.6465 - val_accuracy: 0.7975 - val_loss: 0.5166\n",
            "Epoch 7/10\n",
            "\u001b[1m100/100\u001b[0m \u001b[32m━━━━━━━━━━━━━━━━━━━━\u001b[0m\u001b[37m\u001b[0m \u001b[1m310s\u001b[0m 3s/step - accuracy: 0.8031 - loss: 0.5852 - val_accuracy: 0.8300 - val_loss: 0.4509\n",
            "Epoch 8/10\n",
            "\u001b[1m100/100\u001b[0m \u001b[32m━━━━━━━━━━━━━━━━━━━━\u001b[0m\u001b[37m\u001b[0m \u001b[1m311s\u001b[0m 3s/step - accuracy: 0.8157 - loss: 0.5714 - val_accuracy: 0.8425 - val_loss: 0.4023\n",
            "Epoch 9/10\n",
            "\u001b[1m100/100\u001b[0m \u001b[32m━━━━━━━━━━━━━━━━━━━━\u001b[0m\u001b[37m\u001b[0m \u001b[1m305s\u001b[0m 3s/step - accuracy: 0.7891 - loss: 0.6145 - val_accuracy: 0.8525 - val_loss: 0.3844\n",
            "Epoch 10/10\n",
            "\u001b[1m100/100\u001b[0m \u001b[32m━━━━━━━━━━━━━━━━━━━━\u001b[0m\u001b[37m\u001b[0m \u001b[1m305s\u001b[0m 3s/step - accuracy: 0.8098 - loss: 0.5389 - val_accuracy: 0.8550 - val_loss: 0.3894\n"
          ]
        },
        {
          "data": {
            "text/plain": [
              "<keras.src.callbacks.history.History at 0x7b3ab72bd520>"
            ]
          },
          "execution_count": 17,
          "metadata": {},
          "output_type": "execute_result"
        }
      ],
      "source": [
        "# Rodar apenas ao treinar o algoritmo\n",
        "model.fit(train_data, epochs=10, validation_data=valid_data)"
      ]
    },
    {
      "cell_type": "code",
      "execution_count": 19,
      "id": "1xpnD79Xevlr",
      "metadata": {
        "id": "1xpnD79Xevlr"
      },
      "outputs": [
        {
          "name": "stdout",
          "output_type": "stream",
          "text": [
            "\u001b[1m13/13\u001b[0m \u001b[32m━━━━━━━━━━━━━━━━━━━━\u001b[0m\u001b[37m\u001b[0m \u001b[1m34s\u001b[0m 3s/step - accuracy: 0.8984 - loss: 0.3575\n",
            "Test accuracy: 88.75%\n",
            "Test loss: 36.74%\n"
          ]
        }
      ],
      "source": [
        "# Evaluate the model on the test data\n",
        "test_loss, test_accuracy = model.evaluate(test_data)\n",
        "\n",
        "print(f'Test accuracy: {test_accuracy * 100:.2f}%')\n",
        "print(f'Test loss: {test_loss * 100:.2f}%')"
      ]
    },
    {
      "cell_type": "code",
      "execution_count": 20,
      "id": "AadrzqxhXl6a",
      "metadata": {
        "id": "AadrzqxhXl6a"
      },
      "outputs": [],
      "source": [
        "class_names = {0: 'basophil', 1: 'eosinophil', 2: 'erythroblast', 3:'ig', 4:'lymphocyte',\n",
        "               5:'monocyte', 6:'neutrophil', 7:'platelet'}"
      ]
    },
    {
      "cell_type": "code",
      "execution_count": 21,
      "id": "IlkI5DaaXoGO",
      "metadata": {
        "id": "IlkI5DaaXoGO"
      },
      "outputs": [],
      "source": [
        "def predict_img(image,model):\n",
        "    test_img=cv2.imread(image)\n",
        "    test_img=cv2.resize(test_img, img_size)\n",
        "    test_img=np.expand_dims(test_img, axis=0)\n",
        "    result=model.predict(test_img)\n",
        "    r=np.argmax(result)\n",
        "    print(class_names[r])"
      ]
    },
    {
      "cell_type": "code",
      "execution_count": 22,
      "id": "5tl2skMkXxgH",
      "metadata": {
        "colab": {
          "base_uri": "https://localhost:8080/"
        },
        "id": "5tl2skMkXxgH",
        "outputId": "58ce1852-e6f6-4dfb-b5b0-c53ebd446dca"
      },
      "outputs": [
        {
          "name": "stdout",
          "output_type": "stream",
          "text": [
            "\u001b[1m1/1\u001b[0m \u001b[32m━━━━━━━━━━━━━━━━━━━━\u001b[0m\u001b[37m\u001b[0m \u001b[1m1s\u001b[0m 967ms/step\n",
            "ig\n"
          ]
        }
      ],
      "source": [
        "predict_img('image_recognition/train/ig/MMY_21284.jpg', model)"
      ]
    },
    {
      "cell_type": "code",
      "execution_count": 23,
      "id": "uZQZkU11uRMn",
      "metadata": {
        "colab": {
          "base_uri": "https://localhost:8080/",
          "height": 1000
        },
        "id": "uZQZkU11uRMn",
        "outputId": "4879a2b4-049a-461a-9d09-88d1842a8b6d"
      },
      "outputs": [
        {
          "name": "stdout",
          "output_type": "stream",
          "text": [
            "\u001b[1m13/13\u001b[0m \u001b[32m━━━━━━━━━━━━━━━━━━━━\u001b[0m\u001b[37m\u001b[0m \u001b[1m36s\u001b[0m 3s/step\n"
          ]
        },
        {
          "data": {
            "image/png": "[encoded data removed]",
            "text/plain": [
              "<Figure size 1000x800 with 2 Axes>"
            ]
          },
          "metadata": {},
          "output_type": "display_data"
        },
        {
          "name": "stdout",
          "output_type": "stream",
          "text": [
            "\n",
            "Relatório de Classificação:\n",
            "              precision    recall  f1-score   support\n",
            "\n",
            "    basophil       0.92      0.94      0.93        50\n",
            "  eosinophil       0.88      1.00      0.93        50\n",
            "erythroblast       0.91      0.78      0.84        50\n",
            "          ig       0.92      0.66      0.77        50\n",
            "  lymphocyte       0.78      0.94      0.85        50\n",
            "    monocyte       0.88      0.86      0.87        50\n",
            "  neutrophil       0.98      0.92      0.95        50\n",
            "    platelet       0.88      1.00      0.93        50\n",
            "\n",
            "    accuracy                           0.89       400\n",
            "   macro avg       0.89      0.89      0.88       400\n",
            "weighted avg       0.89      0.89      0.88       400\n",
            "\n"
          ]
        }
      ],
      "source": [
        "# Certifique-se de que o modelo está carregado ou treinado antes de executar esta célula.\n",
        "# Se você não treinou o modelo na sessão atual e está apenas carregando os pesos,\n",
        "# verifique se a célula model.load_weights() foi executada sem erros.\n",
        "\n",
        "# 1. Fazer previsões no conjunto de teste\n",
        "# O número de passos deve cobrir todo o conjunto de teste\n",
        "num_test_samples = test_data.samples\n",
        "# Se test_data.batch_size foi alterado para predição, use esse valor, senão use o batch_size original\n",
        "# Para garantir, podemos recalcular batch_size aqui se necessário ou usar o global\n",
        "\n",
        "# Y_pred_probs conterá as probabilidades para cada classe\n",
        "Y_pred_probs = model.predict(test_data, steps=int(np.ceil(num_test_samples / test_data.batch_size)))\n",
        "\n",
        "# Y_pred conterá a classe predita (o índice da classe com maior probabilidade)\n",
        "Y_pred = np.argmax(Y_pred_probs, axis=1)\n",
        "\n",
        "# 2. Obter os rótulos verdadeiros\n",
        "# Como definimos shuffle=False para test_data, test_data.classes nos dará os rótulos na ordem correta\n",
        "Y_true = test_data.classes\n",
        "\n",
        "# 3. Obter os nomes das classes para o plot\n",
        "# Precisamos deles como uma lista na ordem dos índices para o heatmap\n",
        "target_names = [class_names[i] for i in range(len(class_names))]\n",
        "\n",
        "# 4. Calcular a matriz de confusão\n",
        "cm = confusion_matrix(Y_true, Y_pred)\n",
        "\n",
        "# 5. Visualizar a matriz de confusão\n",
        "plt.figure(figsize=(10, 8))\n",
        "sns.heatmap(cm, annot=True, fmt=\"d\", cmap=\"Blues\", xticklabels=target_names, yticklabels=target_names)\n",
        "plt.title('Matriz de Confusão')\n",
        "plt.ylabel('Classe Verdadeira')\n",
        "plt.xlabel('Classe Predita')\n",
        "plt.xticks(rotation=45, ha='right')\n",
        "plt.yticks(rotation=0)\n",
        "plt.tight_layout() # Ajusta o layout para evitar que os rótulos se sobreponham\n",
        "plt.show()\n",
        "\n",
        "# 6. (Opcional) Exibir o relatório de classificação para mais métricas (precisão, recall, f1-score)\n",
        "print(\"\\nRelatório de Classificação:\")\n",
        "print(classification_report(Y_true, Y_pred, target_names=target_names))"
      ]
    },
    {
      "cell_type": "code",
      "execution_count": 26,
      "id": "7c005122",
      "metadata": {},
      "outputs": [],
      "source": [
        "# Necessário rodar essa célula para salvar os pesos do treinamento\n",
        "model.save('CropModel.keras')"
      ]
    }
  ],
  "metadata": {
    "accelerator": "GPU",
    "colab": {
      "gpuType": "T4",
      "provenance": []
    },
    "kernelspec": {
      "display_name": "base",
      "language": "python",
      "name": "python3"
    },
    "language_info": {
      "codemirror_mode": {
        "name": "ipython",
        "version": 3
      },
      "file_extension": ".py",
      "mimetype": "text/x-python",
      "name": "python",
      "nbconvert_exporter": "python",
      "pygments_lexer": "ipython3",
      "version": "3.12.7"
    }
  },
  "nbformat": 4,
  "nbformat_minor": 5
}
