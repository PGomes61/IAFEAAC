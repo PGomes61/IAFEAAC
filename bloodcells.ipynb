{
 "cells": [
  {
   "cell_type": "code",
   "execution_count": 1,
   "id": "60269ce0",
   "metadata": {},
   "outputs": [],
   "source": [
    "#!pip install tensorflow keras split-folders opencv-python"
   ]
  },
  {
   "cell_type": "code",
   "execution_count": 27,
   "id": "378b019f",
   "metadata": {},
   "outputs": [],
   "source": [
    "import numpy as np\n",
    "import tensorflow as tf\n",
    "from tensorflow.keras.models import Sequential\n",
    "from tensorflow.keras.layers import Conv2D, MaxPooling2D, Flatten, Dense, Dropout, Input\n",
    "from tensorflow.keras.preprocessing.image import ImageDataGenerator\n",
    "import matplotlib.pyplot as plt\n",
    "import numpy as numpy\n",
    "import splitfolders\n",
    "import cv2\n",
    "from tensorflow.keras.applications.resnet50 import preprocess_input\n",
    "from tensorflow.keras import layers, models\n",
    "import os\n",
    "import random"
   ]
  },
  {
   "cell_type": "code",
   "execution_count": 3,
   "id": "ca34ca8b",
   "metadata": {},
   "outputs": [],
   "source": [
    "input_folder = \"bloodcells_dataset\"\n",
    "output_folder = \"image_recognition\""
   ]
  },
  {
   "cell_type": "code",
   "execution_count": 4,
   "id": "eb5d192c",
   "metadata": {},
   "outputs": [
    {
     "name": "stderr",
     "output_type": "stream",
     "text": [
      "Copying files: 17092 files [00:05, 2990.78 files/s]\n"
     ]
    }
   ],
   "source": [
    "split_ratio = (0.8, 0.1, 0.1)\n",
    "splitfolders.ratio(\n",
    "    input_folder,\n",
    "    output=output_folder,\n",
    "    seed=42,\n",
    "    ratio=split_ratio,\n",
    "    group_prefix=None\n",
    ")   # Cria as pastas test, train e val no image_recognition\n"
   ]
  },
  {
   "cell_type": "code",
   "execution_count": 5,
   "id": "526bf788",
   "metadata": {},
   "outputs": [],
   "source": [
    "# Define the parameters\n",
    "img_size = (360, 363)\n",
    "batch_size = 32\n",
    "\n",
    "train_datagen = ImageDataGenerator(\n",
    "    preprocessing_function=preprocess_input,    # resnet50\n",
    "    rotation_range=20,\n",
    "    width_shift_range=0.2,\n",
    "    height_shift_range=0.2,\n",
    "    shear_range=0.2,\n",
    "    zoom_range=0.2,\n",
    "    horizontal_flip=True,\n",
    "    fill_mode='nearest'\n",
    ")"
   ]
  },
  {
   "cell_type": "code",
   "execution_count": 6,
   "id": "0088abbf",
   "metadata": {},
   "outputs": [],
   "source": [
    "# Data augmentation for test data (only rescaling)\n",
    "test_datagen = ImageDataGenerator(preprocessing_function=preprocess_input)\n",
    "# Data augmentation for validation data (only rescaling)\n",
    "valid_datagen = ImageDataGenerator(preprocessing_function=preprocess_input)"
   ]
  },
  {
   "cell_type": "code",
   "execution_count": 7,
   "id": "8a4acac7",
   "metadata": {},
   "outputs": [],
   "source": [
    "train_dir = os.path.join(output_folder, 'train')\n",
    "test_dir = os.path.join(output_folder, 'test')\n",
    "valid_dir = os.path.join(output_folder, 'val')"
   ]
  },
  {
   "cell_type": "code",
   "execution_count": 8,
   "id": "1f20c8ee",
   "metadata": {},
   "outputs": [
    {
     "name": "stdout",
     "output_type": "stream",
     "text": [
      "Found 13671 images belonging to 8 classes.\n",
      "Found 1716 images belonging to 8 classes.\n",
      "Found 1705 images belonging to 8 classes.\n"
     ]
    }
   ],
   "source": [
    "train_data = train_datagen.flow_from_directory(\n",
    "    train_dir,\n",
    "    target_size=img_size,\n",
    "    batch_size=batch_size,\n",
    "    class_mode='categorical'\n",
    ")\n",
    "\n",
    "test_data = test_datagen.flow_from_directory(\n",
    "    test_dir,\n",
    "    target_size=img_size,\n",
    "    batch_size=batch_size,\n",
    "    class_mode='categorical'\n",
    ")\n",
    "\n",
    "valid_data = valid_datagen.flow_from_directory(\n",
    "    valid_dir,\n",
    "    target_size=img_size,\n",
    "    batch_size=batch_size,\n",
    "    class_mode='categorical'\n",
    ")"
   ]
  },
  {
   "cell_type": "code",
   "execution_count": 9,
   "id": "7a5e7c1d",
   "metadata": {},
   "outputs": [
    {
     "data": {
      "text/plain": [
       "<keras.src.legacy.preprocessing.image.DirectoryIterator at 0x70d8e3e51850>"
      ]
     },
     "execution_count": 9,
     "metadata": {},
     "output_type": "execute_result"
    }
   ],
   "source": [
    "valid_data"
   ]
  },
  {
   "cell_type": "code",
   "execution_count": 10,
   "id": "805acfdc",
   "metadata": {},
   "outputs": [],
   "source": [
    "# Get a batch of images and labels\n",
    "images, labels = next(valid_data)"
   ]
  },
  {
   "cell_type": "code",
   "execution_count": 11,
   "id": "263a3b22",
   "metadata": {},
   "outputs": [
    {
     "name": "stderr",
     "output_type": "stream",
     "text": [
      "Clipping input data to the valid range for imshow with RGB data ([0..1] for floats or [0..255] for integers). Got range [-116.779..131.32].\n"
     ]
    },
    {
     "data": {
      "image/png": "[encoded data removed]",
      "text/plain": [
       "<Figure size 640x480 with 1 Axes>"
      ]
     },
     "metadata": {},
     "output_type": "display_data"
    }
   ],
   "source": [
    "# Select a random image from the batch\n",
    "idx =  random.randint(0, images.shape[0] - 1)\n",
    "\n",
    "# Display the image\n",
    "plt.imshow(images[idx])\n",
    "plt.title(labels[idx])\n",
    "plt.show()"
   ]
  },
  {
   "cell_type": "code",
   "execution_count": 12,
   "id": "80df84de",
   "metadata": {},
   "outputs": [
    {
     "name": "stderr",
     "output_type": "stream",
     "text": [
      "2025-05-20 05:17:55.023961: E external/local_xla/xla/stream_executor/cuda/cuda_platform.cc:51] failed call to cuInit: INTERNAL: CUDA error: Failed call to cuInit: UNKNOWN ERROR (303)\n"
     ]
    }
   ],
   "source": [
    "from keras.applications.resnet50 import ResNet50\n",
    "base_model = ResNet50(weights='imagenet', include_top=False, input_shape=(img_size[0], img_size[1], 3))\n",
    "\n",
    "# Freeze the convolutional base\n",
    "base_model.trainable = False"
   ]
  },
  {
   "cell_type": "code",
   "execution_count": 17,
   "id": "43ce4ff8",
   "metadata": {},
   "outputs": [],
   "source": [
    "model = models.Sequential([\n",
    "    base_model,\n",
    "    layers.GlobalAveragePooling2D(),\n",
    "    layers.Dense(128, activation='relu'),\n",
    "    layers.Dropout(0.5),\n",
    "    layers.Dense(8, activation='softmax')\n",
    "])"
   ]
  },
  {
   "cell_type": "code",
   "execution_count": 18,
   "id": "d5c876fe",
   "metadata": {},
   "outputs": [],
   "source": [
    "model.compile(optimizer='adam',\n",
    "              loss='categorical_crossentropy',\n",
    "              metrics=['accuracy'])"
   ]
  },
  {
   "cell_type": "code",
   "execution_count": 21,
   "id": "be097c6a",
   "metadata": {},
   "outputs": [
    {
     "name": "stdout",
     "output_type": "stream",
     "text": [
      "Epoch 1/10\n",
      "\u001b[1m428/428\u001b[0m \u001b[32m━━━━━━━━━━━━━━━━━━━━\u001b[0m\u001b[37m\u001b[0m \u001b[1m1387s\u001b[0m 3s/step - accuracy: 0.7858 - loss: 0.6333 - val_accuracy: 0.8933 - val_loss: 0.3423\n",
      "Epoch 2/10\n",
      "\u001b[1m428/428\u001b[0m \u001b[32m━━━━━━━━━━━━━━━━━━━━\u001b[0m\u001b[37m\u001b[0m \u001b[1m1394s\u001b[0m 3s/step - accuracy: 0.8306 - loss: 0.4990 - val_accuracy: 0.9062 - val_loss: 0.2838\n",
      "Epoch 3/10\n",
      "\u001b[1m428/428\u001b[0m \u001b[32m━━━━━━━━━━━━━━━━━━━━\u001b[0m\u001b[37m\u001b[0m \u001b[1m1385s\u001b[0m 3s/step - accuracy: 0.8443 - loss: 0.4596 - val_accuracy: 0.9167 - val_loss: 0.2566\n",
      "Epoch 4/10\n",
      "\u001b[1m428/428\u001b[0m \u001b[32m━━━━━━━━━━━━━━━━━━━━\u001b[0m\u001b[37m\u001b[0m \u001b[1m1362s\u001b[0m 3s/step - accuracy: 0.8546 - loss: 0.4202 - val_accuracy: 0.9038 - val_loss: 0.2823\n",
      "Epoch 5/10\n",
      "\u001b[1m428/428\u001b[0m \u001b[32m━━━━━━━━━━━━━━━━━━━━\u001b[0m\u001b[37m\u001b[0m \u001b[1m1331s\u001b[0m 3s/step - accuracy: 0.8610 - loss: 0.4138 - val_accuracy: 0.9232 - val_loss: 0.2289\n",
      "Epoch 6/10\n",
      "\u001b[1m428/428\u001b[0m \u001b[32m━━━━━━━━━━━━━━━━━━━━\u001b[0m\u001b[37m\u001b[0m \u001b[1m1324s\u001b[0m 3s/step - accuracy: 0.8646 - loss: 0.3910 - val_accuracy: 0.9214 - val_loss: 0.2447\n",
      "Epoch 7/10\n",
      "\u001b[1m428/428\u001b[0m \u001b[32m━━━━━━━━━━━━━━━━━━━━\u001b[0m\u001b[37m\u001b[0m \u001b[1m1287s\u001b[0m 3s/step - accuracy: 0.8650 - loss: 0.3991 - val_accuracy: 0.9226 - val_loss: 0.2345\n",
      "Epoch 8/10\n",
      "\u001b[1m428/428\u001b[0m \u001b[32m━━━━━━━━━━━━━━━━━━━━\u001b[0m\u001b[37m\u001b[0m \u001b[1m1275s\u001b[0m 3s/step - accuracy: 0.8721 - loss: 0.3743 - val_accuracy: 0.9196 - val_loss: 0.2215\n",
      "Epoch 9/10\n",
      "\u001b[1m428/428\u001b[0m \u001b[32m━━━━━━━━━━━━━━━━━━━━\u001b[0m\u001b[37m\u001b[0m \u001b[1m2264s\u001b[0m 5s/step - accuracy: 0.8796 - loss: 0.3525 - val_accuracy: 0.8979 - val_loss: 0.2845\n",
      "Epoch 10/10\n",
      "\u001b[1m428/428\u001b[0m \u001b[32m━━━━━━━━━━━━━━━━━━━━\u001b[0m\u001b[37m\u001b[0m \u001b[1m1319s\u001b[0m 3s/step - accuracy: 0.8821 - loss: 0.3540 - val_accuracy: 0.9314 - val_loss: 0.2028\n"
     ]
    },
    {
     "data": {
      "text/plain": [
       "<keras.src.callbacks.history.History at 0x70d867e3d7c0>"
      ]
     },
     "execution_count": 21,
     "metadata": {},
     "output_type": "execute_result"
    }
   ],
   "source": [
    "model.fit(train_data, epochs=10, validation_data=valid_data)"
   ]
  },
  {
   "cell_type": "code",
   "execution_count": 22,
   "id": "638ec1b8",
   "metadata": {},
   "outputs": [
    {
     "name": "stderr",
     "output_type": "stream",
     "text": [
      "/home/paulo/Programas/anaconda3/lib/python3.12/site-packages/keras/src/trainers/data_adapters/py_dataset_adapter.py:121: UserWarning: Your `PyDataset` class should call `super().__init__(**kwargs)` in its constructor. `**kwargs` can include `workers`, `use_multiprocessing`, `max_queue_size`. Do not pass these arguments to `fit()`, as they will be ignored.\n",
      "  self._warn_if_super_not_called()\n"
     ]
    },
    {
     "name": "stdout",
     "output_type": "stream",
     "text": [
      "\u001b[1m54/54\u001b[0m \u001b[32m━━━━━━━━━━━━━━━━━━━━\u001b[0m\u001b[37m\u001b[0m \u001b[1m149s\u001b[0m 3s/step - accuracy: 0.9471 - loss: 0.1680\n",
      "Test accuracy: 94.76%\n"
     ]
    }
   ],
   "source": [
    "# Evaluate the model on the test data\n",
    "test_loss, test_accuracy = model.evaluate(test_data)\n",
    "\n",
    "print(f'Test accuracy: {test_accuracy * 100:.2f}%')"
   ]
  },
  {
   "cell_type": "code",
   "execution_count": 23,
   "id": "fb14a5c4",
   "metadata": {},
   "outputs": [],
   "source": [
    "class_names = {0: 'basophil', 1: 'eosinophil', 2: 'erythroblast', 3:'ig', 4:'lymphocyte', \n",
    "               5:'monocyte', 6:'neutrophil', 7:'platelet'}"
   ]
  },
  {
   "cell_type": "code",
   "execution_count": 48,
   "id": "eb8cf89e",
   "metadata": {},
   "outputs": [],
   "source": [
    "def predict_img(image,model):\n",
    "    test_img=cv2.imread(image)\n",
    "    test_img=cv2.resize(test_img, (363,360))\n",
    "    test_img=np.expand_dims(test_img, axis=0)\n",
    "    result=model.predict(test_img)\n",
    "    r=np.argmax(result)\n",
    "    print(class_names[r])"
   ]
  },
  {
   "cell_type": "code",
   "execution_count": 50,
   "id": "7b6ae375",
   "metadata": {},
   "outputs": [
    {
     "name": "stdout",
     "output_type": "stream",
     "text": [
      "\u001b[1m1/1\u001b[0m \u001b[32m━━━━━━━━━━━━━━━━━━━━\u001b[0m\u001b[37m\u001b[0m \u001b[1m0s\u001b[0m 102ms/step\n",
      "platelet\n"
     ]
    }
   ],
   "source": [
    "predict_img('/home/paulo/IA/image_recognition/test/platelet/PLATELET_141417.jpg', model)"
   ]
  },
  {
   "cell_type": "code",
   "execution_count": 37,
   "id": "d7d693de",
   "metadata": {},
   "outputs": [],
   "source": [
    "#Saving model\n",
    "model.save('CropModel.keras')"
   ]
  }
 ],
 "metadata": {
  "kernelspec": {
   "display_name": "base",
   "language": "python",
   "name": "python3"
  },
  "language_info": {
   "codemirror_mode": {
    "name": "ipython",
    "version": 3
   },
   "file_extension": ".py",
   "mimetype": "text/x-python",
   "name": "python",
   "nbconvert_exporter": "python",
   "pygments_lexer": "ipython3",
   "version": "3.12.7"
  }
 },
 "nbformat": 4,
 "nbformat_minor": 5
}
